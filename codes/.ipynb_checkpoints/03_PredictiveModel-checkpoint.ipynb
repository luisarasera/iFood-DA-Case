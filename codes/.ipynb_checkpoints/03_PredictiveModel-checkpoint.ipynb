{
 "cells": [
  {
   "cell_type": "markdown",
   "metadata": {},
   "source": [
    "<div style=\" width:100%; height:10px; background:#b7b7b7;\"></div>\n",
    "<table style=\"width:50%;float:center;padding:100px;\">\n",
    "    <tr style=\"background-color: rgba(0, 0, 0, 0.0);\">\n",
    "        <td>\n",
    "            <img src='../img/ifood.png'>\n",
    "        </td>\n",
    "    </tr>\n",
    "</table>\n",
    "<div style=\"padding:20px;font-size:20px\">\n",
    "<h1><center>Predictive Model</center></h1>\n",
    "</div>"
   ]
  },
  {
   "cell_type": "markdown",
   "metadata": {},
   "source": [
    "### The steps to create a predictive model are:\n",
    "\n",
    "<div style=\" width:100%; height:10px; background:#b7b7b7;\"></div>\n",
    "<table style=\"width:60%;float:center;padding:100px;\">\n",
    "    <tr style=\"background-color: rgba(0, 0, 0, 0.0);\">\n",
    "        <td>\n",
    "            <img src='../img/ds_cycle.png'>\n",
    "        </td>\n",
    "    </tr>\n",
    "</table>"
   ]
  },
  {
   "cell_type": "markdown",
   "metadata": {},
   "source": [
    "### The steps 1, 2, 3 and 4 were developd before in the first two step of this project.\n",
    "\n",
    "### Now let's start the step 5 and 6 in this notebook to complete this test objective: \"The objective of the team is to develop a model that predicts customer behavior and to apply it to the rest of the customer base.\""
   ]
  },
  {
   "cell_type": "code",
   "execution_count": 17,
   "metadata": {},
   "outputs": [],
   "source": [
    "# Import packages\n",
    "import pandas as pd\n",
    "import numpy as np\n",
    "import matplotlib.pyplot as plt\n",
    "import seaborn as sns\n",
    "from datetime import datetime\n",
    "import matplotlib.pyplot as plt\n",
    "%matplotlib inline\n",
    "from sklearn.cluster import KMeans\n",
    "from sklearn.preprocessing import OrdinalEncoder, StandardScaler\n",
    "\n",
    "# Ignore warning \n",
    "import warnings\n",
    "warnings.filterwarnings('ignore')"
   ]
  },
  {
   "cell_type": "code",
   "execution_count": 18,
   "metadata": {},
   "outputs": [],
   "source": [
    "# Load dataset after data treatment\n",
    "df = pd.read_csv('../data/data_predictModel.csv')"
   ]
  },
  {
   "cell_type": "code",
   "execution_count": 3,
   "metadata": {},
   "outputs": [
    {
     "data": {
      "text/html": [
       "<div>\n",
       "<style scoped>\n",
       "    .dataframe tbody tr th:only-of-type {\n",
       "        vertical-align: middle;\n",
       "    }\n",
       "\n",
       "    .dataframe tbody tr th {\n",
       "        vertical-align: top;\n",
       "    }\n",
       "\n",
       "    .dataframe thead th {\n",
       "        text-align: right;\n",
       "    }\n",
       "</style>\n",
       "<table border=\"1\" class=\"dataframe\">\n",
       "  <thead>\n",
       "    <tr style=\"text-align: right;\">\n",
       "      <th></th>\n",
       "      <th>Income</th>\n",
       "      <th>Kidhome</th>\n",
       "      <th>Teenhome</th>\n",
       "      <th>Recency</th>\n",
       "      <th>MntWines</th>\n",
       "      <th>MntFruits</th>\n",
       "      <th>MntMeatProducts</th>\n",
       "      <th>MntFishProducts</th>\n",
       "      <th>MntSweetProducts</th>\n",
       "      <th>MntGoldProds</th>\n",
       "      <th>...</th>\n",
       "      <th>Complain</th>\n",
       "      <th>Response</th>\n",
       "      <th>Age</th>\n",
       "      <th>AcceptanceScore</th>\n",
       "      <th>Lifetime</th>\n",
       "      <th>TPV</th>\n",
       "      <th>EduCode</th>\n",
       "      <th>MaritalCode</th>\n",
       "      <th>AgeCode</th>\n",
       "      <th>RecencyCode</th>\n",
       "    </tr>\n",
       "  </thead>\n",
       "  <tbody>\n",
       "    <tr>\n",
       "      <th>0</th>\n",
       "      <td>58138.0</td>\n",
       "      <td>0</td>\n",
       "      <td>0</td>\n",
       "      <td>58</td>\n",
       "      <td>635</td>\n",
       "      <td>88</td>\n",
       "      <td>546</td>\n",
       "      <td>172</td>\n",
       "      <td>88</td>\n",
       "      <td>88</td>\n",
       "      <td>...</td>\n",
       "      <td>0</td>\n",
       "      <td>1</td>\n",
       "      <td>64</td>\n",
       "      <td>1</td>\n",
       "      <td>8</td>\n",
       "      <td>1617</td>\n",
       "      <td>2</td>\n",
       "      <td>4</td>\n",
       "      <td>3</td>\n",
       "      <td>0</td>\n",
       "    </tr>\n",
       "    <tr>\n",
       "      <th>1</th>\n",
       "      <td>46344.0</td>\n",
       "      <td>1</td>\n",
       "      <td>1</td>\n",
       "      <td>38</td>\n",
       "      <td>11</td>\n",
       "      <td>1</td>\n",
       "      <td>6</td>\n",
       "      <td>2</td>\n",
       "      <td>1</td>\n",
       "      <td>6</td>\n",
       "      <td>...</td>\n",
       "      <td>0</td>\n",
       "      <td>0</td>\n",
       "      <td>67</td>\n",
       "      <td>0</td>\n",
       "      <td>7</td>\n",
       "      <td>27</td>\n",
       "      <td>2</td>\n",
       "      <td>4</td>\n",
       "      <td>3</td>\n",
       "      <td>0</td>\n",
       "    </tr>\n",
       "    <tr>\n",
       "      <th>2</th>\n",
       "      <td>71613.0</td>\n",
       "      <td>0</td>\n",
       "      <td>0</td>\n",
       "      <td>26</td>\n",
       "      <td>426</td>\n",
       "      <td>49</td>\n",
       "      <td>127</td>\n",
       "      <td>111</td>\n",
       "      <td>21</td>\n",
       "      <td>42</td>\n",
       "      <td>...</td>\n",
       "      <td>0</td>\n",
       "      <td>0</td>\n",
       "      <td>56</td>\n",
       "      <td>0</td>\n",
       "      <td>7</td>\n",
       "      <td>776</td>\n",
       "      <td>2</td>\n",
       "      <td>5</td>\n",
       "      <td>2</td>\n",
       "      <td>2</td>\n",
       "    </tr>\n",
       "    <tr>\n",
       "      <th>3</th>\n",
       "      <td>26646.0</td>\n",
       "      <td>1</td>\n",
       "      <td>0</td>\n",
       "      <td>26</td>\n",
       "      <td>11</td>\n",
       "      <td>4</td>\n",
       "      <td>20</td>\n",
       "      <td>10</td>\n",
       "      <td>3</td>\n",
       "      <td>5</td>\n",
       "      <td>...</td>\n",
       "      <td>0</td>\n",
       "      <td>0</td>\n",
       "      <td>37</td>\n",
       "      <td>0</td>\n",
       "      <td>7</td>\n",
       "      <td>53</td>\n",
       "      <td>2</td>\n",
       "      <td>5</td>\n",
       "      <td>0</td>\n",
       "      <td>2</td>\n",
       "    </tr>\n",
       "    <tr>\n",
       "      <th>4</th>\n",
       "      <td>58293.0</td>\n",
       "      <td>1</td>\n",
       "      <td>0</td>\n",
       "      <td>94</td>\n",
       "      <td>173</td>\n",
       "      <td>43</td>\n",
       "      <td>118</td>\n",
       "      <td>46</td>\n",
       "      <td>27</td>\n",
       "      <td>15</td>\n",
       "      <td>...</td>\n",
       "      <td>0</td>\n",
       "      <td>0</td>\n",
       "      <td>40</td>\n",
       "      <td>0</td>\n",
       "      <td>7</td>\n",
       "      <td>422</td>\n",
       "      <td>4</td>\n",
       "      <td>3</td>\n",
       "      <td>0</td>\n",
       "      <td>3</td>\n",
       "    </tr>\n",
       "  </tbody>\n",
       "</table>\n",
       "<p>5 rows × 30 columns</p>\n",
       "</div>"
      ],
      "text/plain": [
       "    Income  Kidhome  Teenhome  Recency  MntWines  MntFruits  MntMeatProducts  \\\n",
       "0  58138.0        0         0       58       635         88              546   \n",
       "1  46344.0        1         1       38        11          1                6   \n",
       "2  71613.0        0         0       26       426         49              127   \n",
       "3  26646.0        1         0       26        11          4               20   \n",
       "4  58293.0        1         0       94       173         43              118   \n",
       "\n",
       "   MntFishProducts  MntSweetProducts  MntGoldProds  ...  Complain  Response  \\\n",
       "0              172                88            88  ...         0         1   \n",
       "1                2                 1             6  ...         0         0   \n",
       "2              111                21            42  ...         0         0   \n",
       "3               10                 3             5  ...         0         0   \n",
       "4               46                27            15  ...         0         0   \n",
       "\n",
       "   Age  AcceptanceScore  Lifetime   TPV  EduCode  MaritalCode  AgeCode  \\\n",
       "0   64                1         8  1617        2            4        3   \n",
       "1   67                0         7    27        2            4        3   \n",
       "2   56                0         7   776        2            5        2   \n",
       "3   37                0         7    53        2            5        0   \n",
       "4   40                0         7   422        4            3        0   \n",
       "\n",
       "   RecencyCode  \n",
       "0            0  \n",
       "1            0  \n",
       "2            2  \n",
       "3            2  \n",
       "4            3  \n",
       "\n",
       "[5 rows x 30 columns]"
      ]
     },
     "execution_count": 3,
     "metadata": {},
     "output_type": "execute_result"
    }
   ],
   "source": [
    "df.head()"
   ]
  },
  {
   "cell_type": "code",
   "execution_count": 20,
   "metadata": {},
   "outputs": [
    {
     "data": {
      "text/plain": [
       "Index(['Income', 'Kidhome', 'Teenhome', 'Recency', 'MntWines', 'MntFruits',\n",
       "       'MntMeatProducts', 'MntFishProducts', 'MntSweetProducts',\n",
       "       'MntGoldProds', 'NumDealsPurchases', 'NumWebPurchases',\n",
       "       'NumCatalogPurchases', 'NumStorePurchases', 'NumWebVisitsMonth',\n",
       "       'AcceptedCmp3', 'AcceptedCmp4', 'AcceptedCmp5', 'AcceptedCmp1',\n",
       "       'AcceptedCmp2', 'Complain', 'Response', 'Age', 'AcceptanceScore',\n",
       "       'Lifetime', 'TPV', 'EduCode', 'MaritalCode', 'AgeCode', 'RecencyCode'],\n",
       "      dtype='object')"
      ]
     },
     "execution_count": 20,
     "metadata": {},
     "output_type": "execute_result"
    }
   ],
   "source": [
    "df.columns"
   ]
  },
  {
   "cell_type": "markdown",
   "metadata": {},
   "source": [
    "One can notice that the dataset has a mix of quantitative and categorial data. \n",
    "To bild a predictive model I'll have to normalize qualitative data and change the type of the categorical variables so the model will performe well."
   ]
  },
  {
   "cell_type": "markdown",
   "metadata": {},
   "source": [
    "# Preprocessing data\n",
    "\n",
    "### Normalizing quantitative variables"
   ]
  },
  {
   "cell_type": "code",
   "execution_count": 21,
   "metadata": {},
   "outputs": [],
   "source": [
    "#Data normalization\n",
    "scaler = StandardScaler()\n",
    "columns = ['Income', 'Kidhome', 'Teenhome', 'Recency', 'MntWines', 'MntFruits',\n",
    "       'MntMeatProducts', 'MntFishProducts', 'MntSweetProducts',\n",
    "       'MntGoldProds', 'NumDealsPurchases', 'NumWebPurchases',\n",
    "       'NumCatalogPurchases', 'NumStorePurchases', 'NumWebVisitsMonth', 'Complain', 'Age', 'AcceptanceScore',\n",
    "       'Lifetime', 'TPV']\n",
    "\n",
    "for col in columns:\n",
    "    df[col] = scaler.fit_transform(df[[col]])"
   ]
  },
  {
   "cell_type": "markdown",
   "metadata": {},
   "source": [
    "### Change categorical variables types"
   ]
  },
  {
   "cell_type": "code",
   "execution_count": 22,
   "metadata": {},
   "outputs": [],
   "source": [
    "# Transformar variaveis em categóricas\n",
    "var_cat_trans = [\n",
    "       'AcceptedCmp3', 'AcceptedCmp4', 'AcceptedCmp5', 'AcceptedCmp1',\n",
    "       'AcceptedCmp2', 'Response','EduCode', 'MaritalCode', 'AgeCode', 'RecencyCode']\n",
    "for var_cat in var_cat_trans:\n",
    "    df[var_cat] = df[var_cat].astype('category')"
   ]
  },
  {
   "cell_type": "code",
   "execution_count": 24,
   "metadata": {},
   "outputs": [
    {
     "name": "stdout",
     "output_type": "stream",
     "text": [
      "<class 'pandas.core.frame.DataFrame'>\n",
      "RangeIndex: 2229 entries, 0 to 2228\n",
      "Data columns (total 30 columns):\n",
      " #   Column               Non-Null Count  Dtype   \n",
      "---  ------               --------------  -----   \n",
      " 0   Income               2229 non-null   float64 \n",
      " 1   Kidhome              2229 non-null   float64 \n",
      " 2   Teenhome             2229 non-null   float64 \n",
      " 3   Recency              2229 non-null   float64 \n",
      " 4   MntWines             2229 non-null   float64 \n",
      " 5   MntFruits            2229 non-null   float64 \n",
      " 6   MntMeatProducts      2229 non-null   float64 \n",
      " 7   MntFishProducts      2229 non-null   float64 \n",
      " 8   MntSweetProducts     2229 non-null   float64 \n",
      " 9   MntGoldProds         2229 non-null   float64 \n",
      " 10  NumDealsPurchases    2229 non-null   float64 \n",
      " 11  NumWebPurchases      2229 non-null   float64 \n",
      " 12  NumCatalogPurchases  2229 non-null   float64 \n",
      " 13  NumStorePurchases    2229 non-null   float64 \n",
      " 14  NumWebVisitsMonth    2229 non-null   float64 \n",
      " 15  AcceptedCmp3         2229 non-null   category\n",
      " 16  AcceptedCmp4         2229 non-null   category\n",
      " 17  AcceptedCmp5         2229 non-null   category\n",
      " 18  AcceptedCmp1         2229 non-null   category\n",
      " 19  AcceptedCmp2         2229 non-null   category\n",
      " 20  Complain             2229 non-null   float64 \n",
      " 21  Response             2229 non-null   category\n",
      " 22  Age                  2229 non-null   float64 \n",
      " 23  AcceptanceScore      2229 non-null   float64 \n",
      " 24  Lifetime             2229 non-null   float64 \n",
      " 25  TPV                  2229 non-null   float64 \n",
      " 26  EduCode              2229 non-null   category\n",
      " 27  MaritalCode          2229 non-null   category\n",
      " 28  AgeCode              2229 non-null   category\n",
      " 29  RecencyCode          2229 non-null   category\n",
      "dtypes: category(10), float64(20)\n",
      "memory usage: 371.7 KB\n"
     ]
    }
   ],
   "source": [
    "df.info()"
   ]
  },
  {
   "cell_type": "markdown",
   "metadata": {},
   "source": [
    "# Feature Engeneering\n",
    "\n",
    "#### Select important variables, split data into test and train group. Check database balance."
   ]
  },
  {
   "cell_type": "code",
   "execution_count": 25,
   "metadata": {},
   "outputs": [],
   "source": [
    "# Split variable Response into 2 groups\n",
    "# Defne df_Y as the dependent variable\n",
    "\n",
    "df_Y = df[['Response']]\n",
    "df_X = df.drop('Response', 1)"
   ]
  },
  {
   "cell_type": "code",
   "execution_count": 27,
   "metadata": {},
   "outputs": [],
   "source": [
    "#Assign df into array\n",
    "\n",
    "X = df_X.values\n",
    "y = df_Y['Response'].values"
   ]
  },
  {
   "cell_type": "markdown",
   "metadata": {},
   "source": [
    "## Select variables"
   ]
  },
  {
   "cell_type": "code",
   "execution_count": 29,
   "metadata": {},
   "outputs": [],
   "source": [
    "#Import model to check variables importance for the model\n",
    "from sklearn.ensemble import RandomForestClassifier"
   ]
  },
  {
   "cell_type": "code",
   "execution_count": 31,
   "metadata": {},
   "outputs": [],
   "source": [
    "#Random Forest Classifier\n",
    "#Assign object to algorithm\n",
    "clf = RandomForestClassifier(n_estimators  = 10)\n",
    "\n",
    "#Fit model \n",
    "clf = clf.fit(X, y)\n",
    "\n",
    "#Extract importance of each variable the algorithm returns\n",
    "importances = clf.feature_importances_"
   ]
  },
  {
   "cell_type": "code",
   "execution_count": 32,
   "metadata": {},
   "outputs": [
    {
     "data": {
      "image/png": "[encoded data removed]",
      "text/plain": [
       "<Figure size 720x576 with 1 Axes>"
      ]
     },
     "metadata": {
      "needs_background": "light"
     },
     "output_type": "display_data"
    }
   ],
   "source": [
    "%matplotlib inline \n",
    "#Create variables visualization by relevance\n",
    "indices = np.argsort(importances)\n",
    "\n",
    "labels = df_X.columns\n",
    "\n",
    "\n",
    "ind=[]\n",
    "for i in indices:\n",
    "    ind.append(labels[i])\n",
    "\n",
    "#Plot\n",
    "plt.figure(figsize=(10,8))\n",
    "plt.title('Variables Relevance')\n",
    "plt.barh(range(len(indices)), importances[indices], color = 'b', align = 'center')\n",
    "plt.yticks(range(len(indices)),ind)\n",
    "plt.xlabel('Relative Significance')\n",
    "plt.show()"
   ]
  },
  {
   "cell_type": "code",
   "execution_count": 60,
   "metadata": {},
   "outputs": [
    {
     "data": {
      "text/plain": [
       "Index(['Income', 'Kidhome', 'Teenhome', 'Recency', 'MntWines', 'MntFruits',\n",
       "       'MntMeatProducts', 'MntFishProducts', 'MntSweetProducts',\n",
       "       'MntGoldProds', 'NumDealsPurchases', 'NumWebPurchases',\n",
       "       'NumCatalogPurchases', 'NumStorePurchases', 'NumWebVisitsMonth',\n",
       "       'AcceptedCmp3', 'AcceptedCmp4', 'AcceptedCmp5', 'AcceptedCmp1',\n",
       "       'AcceptedCmp2', 'Complain', 'Age', 'AcceptanceScore', 'Lifetime', 'TPV',\n",
       "       'EduCode', 'MaritalCode', 'AgeCode', 'RecencyCode'],\n",
       "      dtype='object')"
      ]
     },
     "execution_count": 60,
     "metadata": {},
     "output_type": "execute_result"
    }
   ],
   "source": [
    "df_X.columns"
   ]
  },
  {
   "cell_type": "markdown",
   "metadata": {},
   "source": [
    "Based on the chart above I can see that AcceptanceScore is very important for the model, but I will exclude this variable from the model because it contains information aboute \"Response\" variable.\n",
    "\n",
    "I will choose then Income, Recency, TPV, MaritalCode, AgeCode, MntWines, MntFruits, MntMeatProducts, MntFishProducts, MntSweetProducts, MntGoldProds because, as we saw in the clusterization step they seem to be important to define customer behavior."
   ]
  },
  {
   "cell_type": "code",
   "execution_count": 61,
   "metadata": {},
   "outputs": [],
   "source": [
    "df_Xselect = df_X[['Income', 'Recency', 'TPV', 'MaritalCode', 'AgeCode', 'MntWines', 'MntFruits',\n",
    "       'MntMeatProducts', 'MntFishProducts', 'MntSweetProducts','MntGoldProds']]"
   ]
  },
  {
   "cell_type": "code",
   "execution_count": 62,
   "metadata": {},
   "outputs": [
    {
     "data": {
      "text/plain": [
       "0    1895\n",
       "1     334\n",
       "Name: Response, dtype: int64"
      ]
     },
     "execution_count": 62,
     "metadata": {},
     "output_type": "execute_result"
    }
   ],
   "source": [
    "#Check if Y have the same quantity for each possible response\n",
    "df_Y['Response'].value_counts()"
   ]
  },
  {
   "cell_type": "code",
   "execution_count": 63,
   "metadata": {},
   "outputs": [],
   "source": [
    "# Import train_test_split\n",
    "from sklearn.model_selection import train_test_split"
   ]
  },
  {
   "cell_type": "code",
   "execution_count": 64,
   "metadata": {},
   "outputs": [],
   "source": [
    "#Assing selected varibles to object\n",
    "X_select = df_Xselect.values"
   ]
  },
  {
   "cell_type": "code",
   "execution_count": 65,
   "metadata": {},
   "outputs": [],
   "source": [
    "# Split into train and test sets (30% for test and 70% for trainning)\n",
    "X_train, X_test, y_train, y_test = train_test_split(X_select,\n",
    "                                y,\n",
    "                                test_size=0.33,\n",
    "                                random_state=123)"
   ]
  },
  {
   "cell_type": "code",
   "execution_count": 66,
   "metadata": {},
   "outputs": [],
   "source": [
    "#Rebalance variable Y_train\n",
    "#Import SMOTE\n",
    "from imblearn.over_sampling import SMOTE\n",
    "oversample = SMOTE()\n",
    "X_train, y_train = oversample.fit_resample(X_train, y_train)"
   ]
  },
  {
   "cell_type": "code",
   "execution_count": 67,
   "metadata": {},
   "outputs": [
    {
     "name": "stdout",
     "output_type": "stream",
     "text": [
      "train:  Counter({0: 1283, 1: 1283})\n",
      "test:  Counter({0: 612, 1: 124})\n"
     ]
    }
   ],
   "source": [
    "#Check the balancing\n",
    "\n",
    "from collections import Counter\n",
    "# Train\n",
    "print('train: ', Counter(y_train))\n",
    "# Test\n",
    "print('test: ', Counter(y_test))"
   ]
  },
  {
   "cell_type": "markdown",
   "metadata": {},
   "source": [
    "# Models"
   ]
  },
  {
   "cell_type": "markdown",
   "metadata": {},
   "source": [
    "I choose to use four algorithms most used to predict models:\n",
    "\n",
    "### Logistic Regression\n",
    "The idea of this algorithm is to fit a hypothesis function that gives the probability that the output is 1 (since we are dealing with a binary classification problem instead of a multiclass classification one). This hypothesis is modelled using a logistic function (sigmoid function).\n",
    "\n",
    "There are some hyperparameters I'm setting for this model for better perfrmance. First it is the solver, which is the algorithm used in the optimization problem (minimizing the cost function tuning the parameteres of the hypothesis function). Since we are dealing with a binary classification problem and a small dataset, 'liblinear' will be the choice here.\n",
    "\n",
    "I also setthe hyperparameter max_iter, which is the number of iterations taken for the solver to converge so I prevent the problem of the solver do not converge. \n",
    "\n",
    "### K-Nearest neighbors (KNN)\n",
    "The KNN algorithm assumes that similar things exist in close proximity. In other words, similar things are near to each other. It captures the idea of similarity (sometimes called distance, proximity, or closeness).\n",
    "\n",
    "### Decision Tree\n",
    "The goal of using a Decision Tree is to create a training model to predict the class or value of the target variable by learning simple decision rules inferred from prior data(training data). \n",
    "\n",
    "### Random Forest\n",
    "This algorithm generates many decision trees randomly to create a \"forest\" where each tree will be used to determine the fnal decision.\n"
   ]
  },
  {
   "cell_type": "code",
   "execution_count": 98,
   "metadata": {},
   "outputs": [],
   "source": [
    "seed = 123"
   ]
  },
  {
   "cell_type": "code",
   "execution_count": 89,
   "metadata": {},
   "outputs": [],
   "source": [
    "#Import functions\n",
    "from sklearn.metrics import confusion_matrix\n",
    "from sklearn.metrics import plot_confusion_matrix\n",
    "\n",
    "from sklearn.linear_model import LogisticRegression\n",
    "from sklearn.neighbors import KNeighborsClassifier\n",
    "from sklearn.tree import DecisionTreeClassifier\n",
    "from sklearn.ensemble import RandomForestClassifier"
   ]
  },
  {
   "cell_type": "code",
   "execution_count": 110,
   "metadata": {},
   "outputs": [],
   "source": [
    "#Define models\n",
    "model_LR = LogisticRegression(random_state=seed, max_iter = 1000, C=1, solver='liblinear', penalty='l2')\n",
    "model_KNN = KNeighborsClassifier(n_neighbors=3)\n",
    "model_DTC = DecisionTreeClassifier(random_state=seed)\n",
    "model_RF = RandomForestClassifier(random_state=seed)"
   ]
  },
  {
   "cell_type": "code",
   "execution_count": 111,
   "metadata": {},
   "outputs": [
    {
     "data": {
      "text/plain": [
       "RandomForestClassifier(random_state=123)"
      ]
     },
     "execution_count": 111,
     "metadata": {},
     "output_type": "execute_result"
    }
   ],
   "source": [
    "#Trainning models\n",
    "model_LR.fit(X_train, y_train)\n",
    "model_KNN.fit(X_train, y_train)\n",
    "model_DTC.fit(X_train, y_train)\n",
    "model_RF.fit(X_train, y_train)"
   ]
  },
  {
   "cell_type": "code",
   "execution_count": 112,
   "metadata": {},
   "outputs": [],
   "source": [
    "#Predict model\n",
    "y_predict_LR = model_LR.predict(X_test)\n",
    "y_predict_KNN = model_KNN.predict(X_test)\n",
    "y_predict_DTC = model_DTC.predict(X_test)\n",
    "y_predict_RF = model_RF.predict(X_test)"
   ]
  },
  {
   "cell_type": "code",
   "execution_count": 113,
   "metadata": {},
   "outputs": [
    {
     "name": "stdout",
     "output_type": "stream",
     "text": [
      "Accuracy LR: 0.72\n",
      "Accuracy KNN: 0.74\n",
      "Accuracy DTC: 0.80\n",
      "Accuracy RF: 0.82\n"
     ]
    }
   ],
   "source": [
    "# Accuracy\n",
    "acc = accuracy_score(y_test, y_predict)\n",
    "print('Accuracy LR: %.2f' % accuracy_score(y_test, y_predict_LR))\n",
    "print('Accuracy KNN: %.2f' % accuracy_score(y_test, y_predict_KNN))\n",
    "print('Accuracy DTC: %.2f' % accuracy_score(y_test, y_predict_DTC))\n",
    "print('Accuracy RF: %.2f' % accuracy_score(y_test, y_predict_RF))"
   ]
  },
  {
   "cell_type": "markdown",
   "metadata": {},
   "source": [
    "After trainning and predicting the four models, I can seen by the accuracy that the best model to solve my problem is the Random Forest. The accyracy of this model is 82% which is a vry good value. That means that my model can predict with 82% of accuracy which custmer will accept a campaign and which custmer will not."
   ]
  },
  {
   "cell_type": "code",
   "execution_count": 106,
   "metadata": {},
   "outputs": [
    {
     "data": {
      "text/plain": [
       "RandomForestClassifier()"
      ]
     },
     "execution_count": 106,
     "metadata": {},
     "output_type": "execute_result"
    }
   ],
   "source": [
    "#Select best model\n",
    "best_model = RandomForestClassifier()\n",
    "best_model.fit(X_train, y_train)"
   ]
  },
  {
   "cell_type": "code",
   "execution_count": 107,
   "metadata": {},
   "outputs": [
    {
     "data": {
      "text/plain": [
       "array([[0.62 , 0.38 ],\n",
       "       [0.87 , 0.13 ],\n",
       "       [0.74 , 0.26 ],\n",
       "       ...,\n",
       "       [0.846, 0.154],\n",
       "       [0.77 , 0.23 ],\n",
       "       [0.42 , 0.58 ]])"
      ]
     },
     "execution_count": 107,
     "metadata": {},
     "output_type": "execute_result"
    }
   ],
   "source": [
    "probs = best_model.predict_proba(X_test)\n",
    "probs"
   ]
  },
  {
   "cell_type": "markdown",
   "metadata": {},
   "source": [
    "Now I want to see the performance of the model I selected. To do this I will use a Confusion Matrix.\n",
    "\n",
    "<div style=\" width:50%; height:10px;\"></div>\n",
    "<table style=\"width:30%;float:center;padding:100px;\">\n",
    "    <tr style=\"background-color: rgba(0, 0, 0, 0.0);\">\n",
    "        <td>\n",
    "            <img src='../img/matrix.png'>\n",
    "        </td>\n",
    "    </tr>\n",
    "</table>\n",
    "\n",
    "\n",
    "\n",
    "The confusion matrix is useful for measuring the type of model erros:\n",
    "\n",
    "**True Positive (TP)**: Model predict that that I would accept the campaign and actually did.\n",
    "\n",
    "**True Negative (TN)**: Model predict that that I would not accept the campaign and actually did not.\n",
    "\n",
    "**False Positive (FP)**: Model predict that that I would accept the campaign and in fact I did not (Type 1 Error).\n",
    "\n",
    "**False Negative (FN)**: Model predict that that I would not accept the campaign and in fact I did (Type 2 Error)."
   ]
  },
  {
   "cell_type": "code",
   "execution_count": 132,
   "metadata": {},
   "outputs": [
    {
     "data": {
      "image/png": "[encoded data removed]",
      "text/plain": [
       "<Figure size 504x504 with 2 Axes>"
      ]
     },
     "metadata": {
      "needs_background": "light"
     },
     "output_type": "display_data"
    }
   ],
   "source": [
    "#Confusion Matrix\n",
    "%matplotlib inline\n",
    "\n",
    "fig, ax = plt.subplots(figsize=(7, 7))\n",
    "\n",
    "class_names = ['Accepted campaign',\n",
    "               'Did not accept campaign']\n",
    "\n",
    "plot_confusion_matrix(model_RF, \n",
    "                      X_test, \n",
    "                      y_test, \n",
    "                      ax=ax, \n",
    "                      normalize='true',\n",
    "                     display_labels=class_names,)\n",
    "plt.show()"
   ]
  },
  {
   "cell_type": "code",
   "execution_count": 115,
   "metadata": {},
   "outputs": [],
   "source": [
    "from sklearn.metrics import classification_report"
   ]
  },
  {
   "cell_type": "code",
   "execution_count": 116,
   "metadata": {},
   "outputs": [
    {
     "name": "stdout",
     "output_type": "stream",
     "text": [
      "              precision    recall  f1-score   support\n",
      "\n",
      "           0       0.88      0.92      0.90       612\n",
      "           1       0.46      0.35      0.40       124\n",
      "\n",
      "    accuracy                           0.82       736\n",
      "   macro avg       0.67      0.64      0.65       736\n",
      "weighted avg       0.81      0.82      0.81       736\n",
      "\n"
     ]
    }
   ],
   "source": [
    "#Model parameters\n",
    "print(classification_report(y_test,y_predict))"
   ]
  },
  {
   "cell_type": "markdown",
   "metadata": {},
   "source": [
    "As we can see from the consufion matrix, despite the random forest model has high acyyracy (82%) it also has a failure because it has a good share of False Negative error, in other words, it predicts that some customer will accept the campaign when he/she will not.\n",
    "\n",
    "I could improve this model by choosing other variables from the dataset, or colecting more data such as period of the campaign, time when the customer accepted the campaign, type of the campaign and so on."
   ]
  },
  {
   "cell_type": "markdown",
   "metadata": {},
   "source": [
    "# Conclusions\n",
    "\n",
    "After performing four predict models to solve the problem, I choose the Random Forest model to help marketing area to find customer who will accept the campaigns whit 82% of accuracy. That means that the model will provide a customer who will accept the campaign with 82% of accuracy and the same racional is valid for customer who will not accept.\n",
    "\n",
    "Practically, that means that, in the first scenario we had 2.240 customer who received the campaigns and only 334 of them bought the new gadget. The amount spent per user was 3, so the total amount spent was 6.720MU and the return was 3.674MU (11 per user who accepted).\n",
    "\n",
    "If this model could help in the same scenario it would tell us previously that 82% of the customers who didn't accept the campaign would do that so the company would not spend money with these customers. To talk numbers, if we knew that 82% of 1.895 customers would not accept the campaign we would send the campaign only to 342 customers plus the 334 customer who accepted. We could save 1.026MU (342 x 3) and the total amount spent would be 2.028(676 x 3). So in that scenario, the company would spent 2.028 and the revenue would be the same 3.674 and the company would make profit.\n",
    "\n",
    "We can also consider that this model could help with the conversion model.\n"
   ]
  }
 ],
 "metadata": {
  "kernelspec": {
   "display_name": "Python 3",
   "language": "python",
   "name": "python3"
  },
  "language_info": {
   "codemirror_mode": {
    "name": "ipython",
    "version": 3
   },
   "file_extension": ".py",
   "mimetype": "text/x-python",
   "name": "python",
   "nbconvert_exporter": "python",
   "pygments_lexer": "ipython3",
   "version": "3.8.5"
  }
 },
 "nbformat": 4,
 "nbformat_minor": 4
}
